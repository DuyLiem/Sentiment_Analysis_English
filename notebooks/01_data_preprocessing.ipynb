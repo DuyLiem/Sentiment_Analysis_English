{
 "cells": [
  {
   "cell_type": "markdown",
   "id": "fa9a136b",
   "metadata": {},
   "source": [
    "# DATA PRE-PROCESSING"
   ]
  },
  {
   "cell_type": "code",
   "execution_count": null,
   "id": "8b17f575",
   "metadata": {},
   "outputs": [],
   "source": [
    "import pandas as pd\n",
    "import sys\n",
    "import os\n",
    "sys.path.append('..')\n",
    "from src.preprocessing.Preprocess import processing_text"
   ]
  },
  {
   "cell_type": "markdown",
   "id": "5c32a618",
   "metadata": {},
   "source": [
    "### Tao duong dan den file dataset va doc file"
   ]
  },
  {
   "cell_type": "code",
   "execution_count": null,
   "id": "240d4238",
   "metadata": {},
   "outputs": [],
   "source": [
    "sentiment_dataset_path = '../data/raw/twitter_sentiment_analysis.csv'\n",
    "sentiment_dataset_df = pd.read_csv(sentiment_dataset_path)"
   ]
  },
  {
   "cell_type": "markdown",
   "id": "58843048",
   "metadata": {},
   "source": [
    "### Kiem tra data missing / duplicate"
   ]
  },
  {
   "cell_type": "code",
   "execution_count": null,
   "id": "c86a475a",
   "metadata": {},
   "outputs": [],
   "source": [
    "# Hien thi toan bo thong tin cua Dataframe\n",
    "print(sentiment_dataset_df.info())"
   ]
  },
  {
   "cell_type": "code",
   "execution_count": null,
   "id": "c2eb11f6",
   "metadata": {},
   "outputs": [],
   "source": [
    "# Hien thi thong tin so hang, so cot cua Dataframe\n",
    "print({sentiment_dataset_df.shape})"
   ]
  },
  {
   "cell_type": "code",
   "execution_count": null,
   "id": "93eee127",
   "metadata": {},
   "outputs": [],
   "source": [
    "# Kiem tra du lieu bi missing\n",
    "missing_infor = pd.DataFrame({\n",
    "    'Missing Count': sentiment_dataset_df.isna().sum(),\n",
    "    'Missing precentage': sentiment_dataset_df.isna().sum() / len(sentiment_dataset_df)\n",
    "})\n",
    "print(missing_infor)\n",
    "\n",
    "# Hien thi toan bo cau missing\n",
    "row_missing_comment_mask = sentiment_dataset_df['text'].isna()\n",
    "missing_row_comment_df = sentiment_dataset_df[row_missing_comment_mask]\n",
    "print(missing_row_comment_df[[ 'text']])"
   ]
  },
  {
   "cell_type": "code",
   "execution_count": null,
   "id": "2a372683",
   "metadata": {},
   "outputs": [],
   "source": [
    "#Kiem tra cac so luong comment trung nhau\n",
    "duplicate_comment = sentiment_dataset_df['text'].duplicated().sum()\n",
    "print (duplicate_comment)\n",
    "\n",
    "# Hien thi cac comment trung nhau\n",
    "all_duplicate_mask = sentiment_dataset_df['text'].duplicated(keep= False)\n",
    "all_duplicate_df = sentiment_dataset_df[all_duplicate_mask]\n",
    "print(all_duplicate_df.sort_values(by='text').head(10))"
   ]
  },
  {
   "cell_type": "markdown",
   "id": "0cb32f88",
   "metadata": {},
   "source": [
    "### Loai bo text duplicate/ text missing"
   ]
  },
  {
   "cell_type": "code",
   "execution_count": null,
   "id": "df05f04b",
   "metadata": {},
   "outputs": [],
   "source": [
    "sentiment_dataset_df = sentiment_dataset_df.drop_duplicates(subset=['text'])\n",
    "\n",
    "sentiment_dataset_df =sentiment_dataset_df.dropna(subset=['text'])"
   ]
  },
  {
   "cell_type": "markdown",
   "id": "4ac73830",
   "metadata": {},
   "source": [
    "## Normalization"
   ]
  },
  {
   "cell_type": "code",
   "execution_count": null,
   "id": "1ece49b0",
   "metadata": {},
   "outputs": [],
   "source": [
    "sentiment_dataset_df['text'] = sentiment_dataset_df['text'].apply(processing_text)"
   ]
  },
  {
   "cell_type": "markdown",
   "id": "09612087",
   "metadata": {},
   "source": [
    "## Save file processed"
   ]
  },
  {
   "cell_type": "code",
   "execution_count": null,
   "id": "4b1144dd",
   "metadata": {},
   "outputs": [],
   "source": [
    "sentiment_dataset_df[['text','label']].to_csv(r'../data/processed/sentiment_processed.csv')"
   ]
  },
  {
   "cell_type": "code",
   "execution_count": null,
   "id": "6fc2d258",
   "metadata": {},
   "outputs": [],
   "source": [
    "sentiment_dataset_process_path = '../data/processed/sentiment_processed.csv'\n",
    "sentiment_dataset_process_df = pd.read_csv(sentiment_dataset_process_path)\n",
    "\n",
    "print(sentiment_dataset_process_df.info())"
   ]
  }
 ],
 "metadata": {
  "kernelspec": {
   "display_name": "Python 3",
   "language": "python",
   "name": "python3"
  },
  "language_info": {
   "codemirror_mode": {
    "name": "ipython",
    "version": 3
   },
   "file_extension": ".py",
   "mimetype": "text/x-python",
   "name": "python",
   "nbconvert_exporter": "python",
   "pygments_lexer": "ipython3",
   "version": "3.13.5"
  }
 },
 "nbformat": 4,
 "nbformat_minor": 5
}
