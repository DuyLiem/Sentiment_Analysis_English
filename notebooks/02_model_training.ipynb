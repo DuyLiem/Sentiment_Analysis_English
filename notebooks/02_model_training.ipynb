{
 "cells": [
  {
   "cell_type": "code",
   "execution_count": null,
   "id": "30740114",
   "metadata": {},
   "outputs": [],
   "source": [
    "import pandas as pd\n",
    "from sklearn.feature_extraction.text import TfidfVectorizer\n",
    "from sklearn.preprocessing import LabelEncoder\n",
    "from sklearn.model_selection import train_test_split\n",
    "from sklearn.linear_model import LogisticRegression\n",
    "from sklearn.metrics import classification_report, accuracy_score"
   ]
  },
  {
   "cell_type": "code",
   "execution_count": null,
   "id": "632183a2",
   "metadata": {},
   "outputs": [],
   "source": [
    "sentiment_datasets_processed_path = r'..\\data\\processed\\sentiment_processed.csv'\n",
    "sentiment_datasets_processed_df = pd.read_csv(sentiment_datasets_processed_path)\n",
    "\n",
    "sentiment_datasets_processed_df = sentiment_datasets_processed_df.dropna()"
   ]
  },
  {
   "cell_type": "markdown",
   "id": "2b255438",
   "metadata": {},
   "source": [
    "## Splitting data"
   ]
  },
  {
   "cell_type": "code",
   "execution_count": null,
   "id": "b23810d1",
   "metadata": {},
   "outputs": [],
   "source": [
    "X = sentiment_datasets_processed_df['text']\n",
    "Y = sentiment_datasets_processed_df['label']\n",
    "\n",
    "x_train, x_test, y_train, y_test = train_test_split(X, Y, test_size=0.2, random_state= 0, stratify=Y)"
   ]
  },
  {
   "cell_type": "markdown",
   "id": "ff7a4bb8",
   "metadata": {},
   "source": [
    "## Encoder label"
   ]
  },
  {
   "cell_type": "code",
   "execution_count": null,
   "id": "0f6fa469",
   "metadata": {},
   "outputs": [],
   "source": [
    "label_encoder = LabelEncoder()\n",
    "y_train = label_encoder.fit_transform(y_train)\n",
    "y_test =label_encoder.transform(y_test)"
   ]
  },
  {
   "cell_type": "markdown",
   "id": "a871f1e2",
   "metadata": {},
   "source": [
    "## Vectorlization"
   ]
  },
  {
   "cell_type": "code",
   "execution_count": null,
   "id": "e1f7a97b",
   "metadata": {},
   "outputs": [],
   "source": [
    "tfidf = TfidfVectorizer(max_features= 10000)\n",
    "\n",
    "x_train_tfidf = tfidf.fit_transform(x_train)\n",
    "x_test_tfidf = tfidf.transform(x_test)"
   ]
  },
  {
   "cell_type": "markdown",
   "id": "4820c33b",
   "metadata": {},
   "source": [
    "## Select Model/ Trainning"
   ]
  },
  {
   "cell_type": "code",
   "execution_count": null,
   "id": "381dfe29",
   "metadata": {},
   "outputs": [],
   "source": [
    "model_LR = LogisticRegression(\n",
    "    max_iter= 1000,\n",
    "    C= 0.5,\n",
    "    penalty='l2',\n",
    "    solver='lbfgs',\n",
    "    class_weight='balanced'\n",
    ")\n",
    "model_LR.fit(x_train_tfidf, y_train)"
   ]
  },
  {
   "cell_type": "markdown",
   "id": "ab98947c",
   "metadata": {},
   "source": [
    "## Evaluation"
   ]
  },
  {
   "cell_type": "code",
   "execution_count": null,
   "id": "871786a1",
   "metadata": {},
   "outputs": [],
   "source": [
    "y_pred = model_LR.predict(x_test_tfidf)\n",
    "\n",
    "print(f\"accuracy_score: {accuracy_score(y_test, y_pred)}\")\n",
    "\n",
    "print(f\"classification_report:\\n {classification_report(y_test, y_pred, target_names= label_encoder.classes_)}\")"
   ]
  },
  {
   "cell_type": "code",
   "execution_count": null,
   "id": "d125937f",
   "metadata": {},
   "outputs": [],
   "source": [
    "import matplotlib.pyplot as plt\n",
    "import seaborn as sns\n",
    "from sklearn.metrics import confusion_matrix\n",
    "\n",
    "# Mapping số -> nhãn\n",
    "label_mapping = {0: \"Negative\", 1: \"Neutral\", 2: \"Positive\"}\n",
    "labels = [\"Negative\", \"Neutral\", \"Positive\"]\n",
    "\n",
    "# Tạo confusion matrix\n",
    "cm = confusion_matrix(y_test, y_pred, labels=[0,1,2])\n",
    "\n",
    "# Vẽ heatmap\n",
    "plt.figure(figsize=(6,4))\n",
    "sns.heatmap(cm, annot=True, fmt=\"d\", cmap=\"Blues\", xticklabels=labels, yticklabels=labels)\n",
    "plt.xlabel(\"Predicted\")\n",
    "plt.ylabel(\"Actual\")\n",
    "plt.title(\"Confusion Matrix\")\n",
    "plt.show()\n"
   ]
  },
  {
   "cell_type": "markdown",
   "id": "99fd1e08",
   "metadata": {},
   "source": [
    "## Save model_trained"
   ]
  },
  {
   "cell_type": "code",
   "execution_count": null,
   "id": "dfc9123c",
   "metadata": {},
   "outputs": [],
   "source": [
    "import joblib"
   ]
  },
  {
   "cell_type": "code",
   "execution_count": null,
   "id": "c9cdc5dd",
   "metadata": {},
   "outputs": [],
   "source": [
    "joblib.dump ((tfidf, label_encoder, model_LR), r\"..\\models\\sentiment_pipeline.pkl\")"
   ]
  }
 ],
 "metadata": {
  "kernelspec": {
   "display_name": "Python 3",
   "language": "python",
   "name": "python3"
  },
  "language_info": {
   "codemirror_mode": {
    "name": "ipython",
    "version": 3
   },
   "file_extension": ".py",
   "mimetype": "text/x-python",
   "name": "python",
   "nbconvert_exporter": "python",
   "pygments_lexer": "ipython3",
   "version": "3.13.5"
  }
 },
 "nbformat": 4,
 "nbformat_minor": 5
}
