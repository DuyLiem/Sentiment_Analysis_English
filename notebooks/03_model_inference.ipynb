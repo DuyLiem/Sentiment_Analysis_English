{
 "cells": [
  {
   "cell_type": "code",
   "execution_count": null,
   "id": "374a43d5",
   "metadata": {},
   "outputs": [],
   "source": [
    "import joblib\n",
    "import sys\n",
    "import os\n",
    "sys.path.append('..')\n",
    "from src.preprocessing.Preprocess import processing_text"
   ]
  },
  {
   "cell_type": "code",
   "execution_count": null,
   "id": "93760b24",
   "metadata": {},
   "outputs": [],
   "source": [
    "tfidf , label_encoder, model = joblib.load(r\"..\\models\\sentiment_pipeline.pkl\")"
   ]
  },
  {
   "cell_type": "code",
   "execution_count": null,
   "id": "78e5f990",
   "metadata": {},
   "outputs": [],
   "source": [
    "\n",
    "# Test với new text\n",
    "with open('../tests/new_text_test.txt','r', encoding='utf-8') as f:\n",
    "    new_texts = f.readlines()\n",
    "\n",
    "# Tiền xử lý trước khi predict\n",
    "processed = [processing_text(t) for t in new_texts]\n",
    "# Vector hóa\n",
    "X_new = tfidf.transform(processed)\n",
    "\n",
    "# Dự đoán\n",
    "y_pred = model.predict(X_new)\n",
    "\n",
    "# Đổi nhãn số → tên nhãn\n",
    "labels = label_encoder.inverse_transform(y_pred)\n",
    "\n",
    "print(\"Kết quả dự đoán:\", labels)\n"
   ]
  }
 ],
 "metadata": {
  "kernelspec": {
   "display_name": "Python 3",
   "language": "python",
   "name": "python3"
  },
  "language_info": {
   "codemirror_mode": {
    "name": "ipython",
    "version": 3
   },
   "file_extension": ".py",
   "mimetype": "text/x-python",
   "name": "python",
   "nbconvert_exporter": "python",
   "pygments_lexer": "ipython3",
   "version": "3.13.5"
  }
 },
 "nbformat": 4,
 "nbformat_minor": 5
}
